{
 "cells": [
  {
   "cell_type": "markdown",
   "metadata": {},
   "source": [
    "<img style=\"float:center\" src=\"img/refine-cat.jpg\" width = 300/>\n",
    "\n",
    "\n"
   ]
  },
  {
   "cell_type": "markdown",
   "metadata": {},
   "source": [
    "## Refining the data"
   ]
  },
  {
   "cell_type": "markdown",
   "metadata": {},
   "source": [
    "#### Why to refine? \n",
    "\n",
    "Removing the un-necessary columns reduces the size of data thereby helping us compute things faster and us lesser memory."
   ]
  },
  {
   "cell_type": "markdown",
   "metadata": {},
   "source": [
    "** Pre-loaded data**\n",
    "\n",
    "We have loaded the complete data set into sqlite and we have made that file available to you. We will be using this file to look at the data and refine it"
   ]
  },
  {
   "cell_type": "code",
   "execution_count": 3,
   "metadata": {
    "collapsed": true
   },
   "outputs": [],
   "source": [
    "import pandas as pd\n",
    "from sqlalchemy import create_engine\n",
    "import os"
   ]
  },
  {
   "cell_type": "code",
   "execution_count": 6,
   "metadata": {
    "collapsed": true
   },
   "outputs": [],
   "source": [
    "#engine = create_engine('sqlite:////home/nischal/hard-disk.db')\n",
    "engine = create_engine('sqlite://///Users/standy/hard-disk.db')\n",
    "\n"
   ]
  },
  {
   "cell_type": "code",
   "execution_count": 7,
   "metadata": {
    "collapsed": false
   },
   "outputs": [],
   "source": [
    "total_df = pd.read_sql_query(sql='''SELECT * from data limit 2000000''' ,con=engine)"
   ]
  },
  {
   "cell_type": "code",
   "execution_count": 8,
   "metadata": {
    "collapsed": false
   },
   "outputs": [
    {
     "data": {
      "text/plain": [
       "date                    2000000\n",
       "serial_number           2000000\n",
       "model                   2000000\n",
       "capacity_bytes          2000000\n",
       "failure                 2000000\n",
       "smart_1_normalized            0\n",
       "smart_1_raw             2000000\n",
       "smart_2_normalized            0\n",
       "smart_2_raw                   0\n",
       "smart_3_normalized            0\n",
       "smart_3_raw                   0\n",
       "smart_4_normalized            0\n",
       "smart_4_raw                   0\n",
       "smart_5_normalized            0\n",
       "smart_5_raw             2000000\n",
       "smart_7_normalized            0\n",
       "smart_7_raw                   0\n",
       "smart_8_normalized            0\n",
       "smart_8_raw                   0\n",
       "smart_9_normalized            0\n",
       "smart_9_raw             2000000\n",
       "smart_10_normalized           0\n",
       "smart_10_raw                  0\n",
       "smart_11_normalized           0\n",
       "smart_11_raw                  0\n",
       "smart_12_normalized           0\n",
       "smart_12_raw                  0\n",
       "smart_13_normalized           0\n",
       "smart_13_raw                  0\n",
       "smart_15_normalized           0\n",
       "                         ...   \n",
       "smart_197_normalized          0\n",
       "smart_197_raw           2000000\n",
       "smart_198_normalized          0\n",
       "smart_198_raw                 0\n",
       "smart_199_normalized          0\n",
       "smart_199_raw                 0\n",
       "smart_200_normalized          0\n",
       "smart_200_raw                 0\n",
       "smart_201_normalized          0\n",
       "smart_201_raw                 0\n",
       "smart_223_normalized          0\n",
       "smart_223_raw                 0\n",
       "smart_225_normalized          0\n",
       "smart_225_raw                 0\n",
       "smart_240_normalized          0\n",
       "smart_240_raw                 0\n",
       "smart_241_normalized          0\n",
       "smart_241_raw                 0\n",
       "smart_242_normalized          0\n",
       "smart_242_raw                 0\n",
       "smart_250_normalized          0\n",
       "smart_250_raw                 0\n",
       "smart_251_normalized          0\n",
       "smart_251_raw                 0\n",
       "smart_252_normalized          0\n",
       "smart_252_raw                 0\n",
       "smart_254_normalized          0\n",
       "smart_254_raw                 0\n",
       "smart_255_normalized          0\n",
       "smart_255_raw                 0\n",
       "dtype: int64"
      ]
     },
     "execution_count": 8,
     "metadata": {},
     "output_type": "execute_result"
    }
   ],
   "source": [
    "total_df.count()"
   ]
  },
  {
   "cell_type": "code",
   "execution_count": 21,
   "metadata": {
    "collapsed": false
   },
   "outputs": [],
   "source": [
    "total_count_df = pd.DataFrame(total_df.count(),columns=['counts'])"
   ]
  },
  {
   "cell_type": "code",
   "execution_count": 23,
   "metadata": {
    "collapsed": false
   },
   "outputs": [
    {
     "data": {
      "text/html": [
       "<div>\n",
       "<table border=\"1\" class=\"dataframe\">\n",
       "  <thead>\n",
       "    <tr style=\"text-align: right;\">\n",
       "      <th></th>\n",
       "      <th>counts</th>\n",
       "    </tr>\n",
       "  </thead>\n",
       "  <tbody>\n",
       "    <tr>\n",
       "      <th>date</th>\n",
       "      <td>2000000</td>\n",
       "    </tr>\n",
       "    <tr>\n",
       "      <th>serial_number</th>\n",
       "      <td>2000000</td>\n",
       "    </tr>\n",
       "    <tr>\n",
       "      <th>model</th>\n",
       "      <td>2000000</td>\n",
       "    </tr>\n",
       "    <tr>\n",
       "      <th>capacity_bytes</th>\n",
       "      <td>2000000</td>\n",
       "    </tr>\n",
       "    <tr>\n",
       "      <th>failure</th>\n",
       "      <td>2000000</td>\n",
       "    </tr>\n",
       "  </tbody>\n",
       "</table>\n",
       "</div>"
      ],
      "text/plain": [
       "                 counts\n",
       "date            2000000\n",
       "serial_number   2000000\n",
       "model           2000000\n",
       "capacity_bytes  2000000\n",
       "failure         2000000"
      ]
     },
     "execution_count": 23,
     "metadata": {},
     "output_type": "execute_result"
    }
   ],
   "source": [
    "total_count_df.head()"
   ]
  },
  {
   "cell_type": "code",
   "execution_count": 24,
   "metadata": {
    "collapsed": false
   },
   "outputs": [
    {
     "data": {
      "text/html": [
       "<div>\n",
       "<table border=\"1\" class=\"dataframe\">\n",
       "  <thead>\n",
       "    <tr style=\"text-align: right;\">\n",
       "      <th></th>\n",
       "      <th>counts</th>\n",
       "    </tr>\n",
       "  </thead>\n",
       "  <tbody>\n",
       "    <tr>\n",
       "      <th>date</th>\n",
       "      <td>2000000</td>\n",
       "    </tr>\n",
       "    <tr>\n",
       "      <th>serial_number</th>\n",
       "      <td>2000000</td>\n",
       "    </tr>\n",
       "    <tr>\n",
       "      <th>model</th>\n",
       "      <td>2000000</td>\n",
       "    </tr>\n",
       "    <tr>\n",
       "      <th>capacity_bytes</th>\n",
       "      <td>2000000</td>\n",
       "    </tr>\n",
       "    <tr>\n",
       "      <th>failure</th>\n",
       "      <td>2000000</td>\n",
       "    </tr>\n",
       "    <tr>\n",
       "      <th>smart_1_raw</th>\n",
       "      <td>2000000</td>\n",
       "    </tr>\n",
       "    <tr>\n",
       "      <th>smart_5_raw</th>\n",
       "      <td>2000000</td>\n",
       "    </tr>\n",
       "    <tr>\n",
       "      <th>smart_9_raw</th>\n",
       "      <td>2000000</td>\n",
       "    </tr>\n",
       "    <tr>\n",
       "      <th>smart_194_raw</th>\n",
       "      <td>2000000</td>\n",
       "    </tr>\n",
       "    <tr>\n",
       "      <th>smart_197_raw</th>\n",
       "      <td>2000000</td>\n",
       "    </tr>\n",
       "  </tbody>\n",
       "</table>\n",
       "</div>"
      ],
      "text/plain": [
       "                 counts\n",
       "date            2000000\n",
       "serial_number   2000000\n",
       "model           2000000\n",
       "capacity_bytes  2000000\n",
       "failure         2000000\n",
       "smart_1_raw     2000000\n",
       "smart_5_raw     2000000\n",
       "smart_9_raw     2000000\n",
       "smart_194_raw   2000000\n",
       "smart_197_raw   2000000"
      ]
     },
     "execution_count": 24,
     "metadata": {},
     "output_type": "execute_result"
    }
   ],
   "source": [
    "total_count_df[total_count_df.counts > 0]"
   ]
  },
  {
   "cell_type": "markdown",
   "metadata": {},
   "source": [
    "** How to refine? **\n",
    "\n",
    "When we look at our dataset , we see that a **lot of columns have no data**.\n",
    "Let us take a look at the columns that has data and those that dont\n",
    "\n",
    "** From this data we can see that we need only 10 columns **\n",
    "* **model**\n",
    "* **date**\n",
    "* **serial_number**\n",
    "* **capacity_bytes**\n",
    "* **failure**\n",
    "* **smart_1_raw**\n",
    "* **smart_5_raw**\n",
    "* **smart_9_raw**\n",
    "* **smart_194_raw**\n",
    "* **smart_197_raw**\n"
   ]
  },
  {
   "cell_type": "markdown",
   "metadata": {},
   "source": [
    "<img style=\"float:center\" src=\"img/refine.jpg\" width=250/>"
   ]
  },
  {
   "cell_type": "code",
   "execution_count": 16,
   "metadata": {
    "collapsed": true
   },
   "outputs": [],
   "source": [
    "#this is the code snippet to to load required columns into another database\n",
    "reduced_data_df = pd.read_sql_query(sql='''select model,date,serial_number,capacity_bytes,failure,smart_1_raw,smart_5_raw,smart_9_raw,smart_194_raw,smart_197_raw from data where date between '2013-04-10' and '2013-08-20' ''',con=engine)"
   ]
  },
  {
   "cell_type": "code",
   "execution_count": 18,
   "metadata": {
    "collapsed": false
   },
   "outputs": [],
   "source": [
    "reduced_data_df.to_sql(\"data_reduced\",con=engine,index=False,if_exists='append')"
   ]
  },
  {
   "cell_type": "markdown",
   "metadata": {},
   "source": [
    "**Using the above columns we have created a reduced data set and loaded it onto the database. This is the database we will be using from here onwards.**"
   ]
  },
  {
   "cell_type": "code",
   "execution_count": null,
   "metadata": {
    "collapsed": true
   },
   "outputs": [],
   "source": []
  }
 ],
 "metadata": {
  "kernelspec": {
   "display_name": "Python 2",
   "language": "python",
   "name": "python2"
  },
  "language_info": {
   "codemirror_mode": {
    "name": "ipython",
    "version": 2
   },
   "file_extension": ".py",
   "mimetype": "text/x-python",
   "name": "python",
   "nbconvert_exporter": "python",
   "pygments_lexer": "ipython2",
   "version": "2.7.11"
  }
 },
 "nbformat": 4,
 "nbformat_minor": 0
}
