{
 "cells": [
  {
   "cell_type": "markdown",
   "metadata": {},
   "source": [
    "<img style=\"float:center\" src=\"img/refine-cat.jpg\" width = 300/>\n",
    "\n",
    "\n"
   ]
  },
  {
   "cell_type": "markdown",
   "metadata": {},
   "source": [
    "## Refining the data"
   ]
  },
  {
   "cell_type": "markdown",
   "metadata": {},
   "source": [
    "#### Why to refine? \n",
    "\n",
    "Removing the un-necessary columns reduces the size of data thereby helping us compute things faster and us lesser memory."
   ]
  },
  {
   "cell_type": "markdown",
   "metadata": {},
   "source": [
    "** Pre-loaded data**\n",
    "\n",
    "We have loaded the complete data set into sqlite and we have made that file available to you. We will be using this file to look at the data and refine it"
   ]
  },
  {
   "cell_type": "code",
   "execution_count": 1,
   "metadata": {
    "collapsed": true
   },
   "outputs": [],
   "source": [
    "import pandas as pd\n",
    "from sqlalchemy import create_engine\n",
    "import os"
   ]
  },
  {
   "cell_type": "code",
   "execution_count": 2,
   "metadata": {
    "collapsed": true
   },
   "outputs": [],
   "source": [
    "#engine = create_engine('sqlite:////home/nischal/hard-disk.db')\n",
    "engine = create_engine('sqlite://///Users/standy/hard-disk.db')\n",
    "\n"
   ]
  },
  {
   "cell_type": "code",
   "execution_count": 5,
   "metadata": {
    "collapsed": false
   },
   "outputs": [],
   "source": [
    "total_df = pd.read_sql_query(sql='''SELECT * from data limit 2000000''' ,con=engine)"
   ]
  },
  {
   "cell_type": "code",
   "execution_count": 11,
   "metadata": {
    "collapsed": true
   },
   "outputs": [],
   "source": [
    "specific_columns_df = pd.read_sql_query(sql=''' SELECT date,model from data limit 10 offset 10'''\n",
    "                                            ,con=engine)"
   ]
  },
  {
   "cell_type": "code",
   "execution_count": 12,
   "metadata": {
    "collapsed": false
   },
   "outputs": [
    {
     "data": {
      "text/html": [
       "<div>\n",
       "<table border=\"1\" class=\"dataframe\">\n",
       "  <thead>\n",
       "    <tr style=\"text-align: right;\">\n",
       "      <th></th>\n",
       "      <th>date</th>\n",
       "      <th>model</th>\n",
       "    </tr>\n",
       "  </thead>\n",
       "  <tbody>\n",
       "    <tr>\n",
       "      <th>0</th>\n",
       "      <td>2013-08-07</td>\n",
       "      <td>Hitachi HDS5C3030ALA630</td>\n",
       "    </tr>\n",
       "    <tr>\n",
       "      <th>1</th>\n",
       "      <td>2013-08-07</td>\n",
       "      <td>Hitachi HDS722020ALA330</td>\n",
       "    </tr>\n",
       "    <tr>\n",
       "      <th>2</th>\n",
       "      <td>2013-08-07</td>\n",
       "      <td>Hitachi HDS722020ALA330</td>\n",
       "    </tr>\n",
       "    <tr>\n",
       "      <th>3</th>\n",
       "      <td>2013-08-07</td>\n",
       "      <td>ST31500541AS</td>\n",
       "    </tr>\n",
       "    <tr>\n",
       "      <th>4</th>\n",
       "      <td>2013-08-07</td>\n",
       "      <td>ST4000DM000</td>\n",
       "    </tr>\n",
       "  </tbody>\n",
       "</table>\n",
       "</div>"
      ],
      "text/plain": [
       "         date                    model\n",
       "0  2013-08-07  Hitachi HDS5C3030ALA630\n",
       "1  2013-08-07  Hitachi HDS722020ALA330\n",
       "2  2013-08-07  Hitachi HDS722020ALA330\n",
       "3  2013-08-07             ST31500541AS\n",
       "4  2013-08-07              ST4000DM000"
      ]
     },
     "execution_count": 12,
     "metadata": {},
     "output_type": "execute_result"
    }
   ],
   "source": [
    "specific_columns_df.head()"
   ]
  },
  {
   "cell_type": "code",
   "execution_count": 10,
   "metadata": {
    "collapsed": false
   },
   "outputs": [
    {
     "data": {
      "text/html": [
       "<div>\n",
       "<table border=\"1\" class=\"dataframe\">\n",
       "  <thead>\n",
       "    <tr style=\"text-align: right;\">\n",
       "      <th></th>\n",
       "      <th>date</th>\n",
       "      <th>serial_number</th>\n",
       "      <th>model</th>\n",
       "      <th>capacity_bytes</th>\n",
       "      <th>failure</th>\n",
       "      <th>smart_1_normalized</th>\n",
       "      <th>smart_1_raw</th>\n",
       "      <th>smart_2_normalized</th>\n",
       "      <th>smart_2_raw</th>\n",
       "      <th>smart_3_normalized</th>\n",
       "      <th>...</th>\n",
       "      <th>smart_250_normalized</th>\n",
       "      <th>smart_250_raw</th>\n",
       "      <th>smart_251_normalized</th>\n",
       "      <th>smart_251_raw</th>\n",
       "      <th>smart_252_normalized</th>\n",
       "      <th>smart_252_raw</th>\n",
       "      <th>smart_254_normalized</th>\n",
       "      <th>smart_254_raw</th>\n",
       "      <th>smart_255_normalized</th>\n",
       "      <th>smart_255_raw</th>\n",
       "    </tr>\n",
       "  </thead>\n",
       "  <tbody>\n",
       "    <tr>\n",
       "      <th>0</th>\n",
       "      <td>2013-08-07</td>\n",
       "      <td>MJ0351YNG9Z0XA</td>\n",
       "      <td>Hitachi HDS5C3030ALA630</td>\n",
       "      <td>3000592982016</td>\n",
       "      <td>0</td>\n",
       "      <td>None</td>\n",
       "      <td>0</td>\n",
       "      <td>None</td>\n",
       "      <td>None</td>\n",
       "      <td>None</td>\n",
       "      <td>...</td>\n",
       "      <td>NaN</td>\n",
       "      <td>NaN</td>\n",
       "      <td>NaN</td>\n",
       "      <td>NaN</td>\n",
       "      <td>NaN</td>\n",
       "      <td>NaN</td>\n",
       "      <td>NaN</td>\n",
       "      <td>NaN</td>\n",
       "      <td>NaN</td>\n",
       "      <td>NaN</td>\n",
       "    </tr>\n",
       "    <tr>\n",
       "      <th>1</th>\n",
       "      <td>2013-08-07</td>\n",
       "      <td>MJ0351YNG9Z7LA</td>\n",
       "      <td>Hitachi HDS5C3030ALA630</td>\n",
       "      <td>3000592982016</td>\n",
       "      <td>0</td>\n",
       "      <td>None</td>\n",
       "      <td>0</td>\n",
       "      <td>None</td>\n",
       "      <td>None</td>\n",
       "      <td>None</td>\n",
       "      <td>...</td>\n",
       "      <td>NaN</td>\n",
       "      <td>NaN</td>\n",
       "      <td>NaN</td>\n",
       "      <td>NaN</td>\n",
       "      <td>NaN</td>\n",
       "      <td>NaN</td>\n",
       "      <td>NaN</td>\n",
       "      <td>NaN</td>\n",
       "      <td>NaN</td>\n",
       "      <td>NaN</td>\n",
       "    </tr>\n",
       "    <tr>\n",
       "      <th>2</th>\n",
       "      <td>2013-08-07</td>\n",
       "      <td>MJ0351YNGABYAA</td>\n",
       "      <td>Hitachi HDS5C3030ALA630</td>\n",
       "      <td>3000592982016</td>\n",
       "      <td>0</td>\n",
       "      <td>None</td>\n",
       "      <td>0</td>\n",
       "      <td>None</td>\n",
       "      <td>None</td>\n",
       "      <td>None</td>\n",
       "      <td>...</td>\n",
       "      <td>NaN</td>\n",
       "      <td>NaN</td>\n",
       "      <td>NaN</td>\n",
       "      <td>NaN</td>\n",
       "      <td>NaN</td>\n",
       "      <td>NaN</td>\n",
       "      <td>NaN</td>\n",
       "      <td>NaN</td>\n",
       "      <td>NaN</td>\n",
       "      <td>NaN</td>\n",
       "    </tr>\n",
       "    <tr>\n",
       "      <th>3</th>\n",
       "      <td>2013-08-07</td>\n",
       "      <td>PL1321LAG34XWH</td>\n",
       "      <td>Hitachi HDS5C4040ALE630</td>\n",
       "      <td>4000787030016</td>\n",
       "      <td>0</td>\n",
       "      <td>None</td>\n",
       "      <td>0</td>\n",
       "      <td>None</td>\n",
       "      <td>None</td>\n",
       "      <td>None</td>\n",
       "      <td>...</td>\n",
       "      <td>NaN</td>\n",
       "      <td>NaN</td>\n",
       "      <td>NaN</td>\n",
       "      <td>NaN</td>\n",
       "      <td>NaN</td>\n",
       "      <td>NaN</td>\n",
       "      <td>NaN</td>\n",
       "      <td>NaN</td>\n",
       "      <td>NaN</td>\n",
       "      <td>NaN</td>\n",
       "    </tr>\n",
       "    <tr>\n",
       "      <th>4</th>\n",
       "      <td>2013-08-07</td>\n",
       "      <td>PL1311LAG2205A</td>\n",
       "      <td>Hitachi HDS5C4040ALE630</td>\n",
       "      <td>4000787030016</td>\n",
       "      <td>0</td>\n",
       "      <td>None</td>\n",
       "      <td>0</td>\n",
       "      <td>None</td>\n",
       "      <td>None</td>\n",
       "      <td>None</td>\n",
       "      <td>...</td>\n",
       "      <td>NaN</td>\n",
       "      <td>NaN</td>\n",
       "      <td>NaN</td>\n",
       "      <td>NaN</td>\n",
       "      <td>NaN</td>\n",
       "      <td>NaN</td>\n",
       "      <td>NaN</td>\n",
       "      <td>NaN</td>\n",
       "      <td>NaN</td>\n",
       "      <td>NaN</td>\n",
       "    </tr>\n",
       "  </tbody>\n",
       "</table>\n",
       "<p>5 rows × 85 columns</p>\n",
       "</div>"
      ],
      "text/plain": [
       "         date   serial_number                    model  capacity_bytes  \\\n",
       "0  2013-08-07  MJ0351YNG9Z0XA  Hitachi HDS5C3030ALA630   3000592982016   \n",
       "1  2013-08-07  MJ0351YNG9Z7LA  Hitachi HDS5C3030ALA630   3000592982016   \n",
       "2  2013-08-07  MJ0351YNGABYAA  Hitachi HDS5C3030ALA630   3000592982016   \n",
       "3  2013-08-07  PL1321LAG34XWH  Hitachi HDS5C4040ALE630   4000787030016   \n",
       "4  2013-08-07  PL1311LAG2205A  Hitachi HDS5C4040ALE630   4000787030016   \n",
       "\n",
       "   failure smart_1_normalized  smart_1_raw smart_2_normalized smart_2_raw  \\\n",
       "0        0               None            0               None        None   \n",
       "1        0               None            0               None        None   \n",
       "2        0               None            0               None        None   \n",
       "3        0               None            0               None        None   \n",
       "4        0               None            0               None        None   \n",
       "\n",
       "  smart_3_normalized      ...      smart_250_normalized smart_250_raw  \\\n",
       "0               None      ...                       NaN           NaN   \n",
       "1               None      ...                       NaN           NaN   \n",
       "2               None      ...                       NaN           NaN   \n",
       "3               None      ...                       NaN           NaN   \n",
       "4               None      ...                       NaN           NaN   \n",
       "\n",
       "  smart_251_normalized smart_251_raw  smart_252_normalized smart_252_raw  \\\n",
       "0                  NaN           NaN                   NaN           NaN   \n",
       "1                  NaN           NaN                   NaN           NaN   \n",
       "2                  NaN           NaN                   NaN           NaN   \n",
       "3                  NaN           NaN                   NaN           NaN   \n",
       "4                  NaN           NaN                   NaN           NaN   \n",
       "\n",
       "  smart_254_normalized smart_254_raw smart_255_normalized smart_255_raw  \n",
       "0                  NaN           NaN                  NaN           NaN  \n",
       "1                  NaN           NaN                  NaN           NaN  \n",
       "2                  NaN           NaN                  NaN           NaN  \n",
       "3                  NaN           NaN                  NaN           NaN  \n",
       "4                  NaN           NaN                  NaN           NaN  \n",
       "\n",
       "[5 rows x 85 columns]"
      ]
     },
     "execution_count": 10,
     "metadata": {},
     "output_type": "execute_result"
    }
   ],
   "source": [
    "total_df.head()"
   ]
  },
  {
   "cell_type": "code",
   "execution_count": 13,
   "metadata": {
    "collapsed": false
   },
   "outputs": [
    {
     "data": {
      "text/plain": [
       "date                    2000000\n",
       "serial_number           2000000\n",
       "model                   2000000\n",
       "capacity_bytes          2000000\n",
       "failure                 2000000\n",
       "smart_1_normalized            0\n",
       "smart_1_raw             2000000\n",
       "smart_2_normalized            0\n",
       "smart_2_raw                   0\n",
       "smart_3_normalized            0\n",
       "smart_3_raw                   0\n",
       "smart_4_normalized            0\n",
       "smart_4_raw                   0\n",
       "smart_5_normalized            0\n",
       "smart_5_raw             2000000\n",
       "smart_7_normalized            0\n",
       "smart_7_raw                   0\n",
       "smart_8_normalized            0\n",
       "smart_8_raw                   0\n",
       "smart_9_normalized            0\n",
       "smart_9_raw             2000000\n",
       "smart_10_normalized           0\n",
       "smart_10_raw                  0\n",
       "smart_11_normalized           0\n",
       "smart_11_raw                  0\n",
       "smart_12_normalized           0\n",
       "smart_12_raw                  0\n",
       "smart_13_normalized           0\n",
       "smart_13_raw                  0\n",
       "smart_15_normalized           0\n",
       "                         ...   \n",
       "smart_197_normalized          0\n",
       "smart_197_raw           2000000\n",
       "smart_198_normalized          0\n",
       "smart_198_raw                 0\n",
       "smart_199_normalized          0\n",
       "smart_199_raw                 0\n",
       "smart_200_normalized          0\n",
       "smart_200_raw                 0\n",
       "smart_201_normalized          0\n",
       "smart_201_raw                 0\n",
       "smart_223_normalized          0\n",
       "smart_223_raw                 0\n",
       "smart_225_normalized          0\n",
       "smart_225_raw                 0\n",
       "smart_240_normalized          0\n",
       "smart_240_raw                 0\n",
       "smart_241_normalized          0\n",
       "smart_241_raw                 0\n",
       "smart_242_normalized          0\n",
       "smart_242_raw                 0\n",
       "smart_250_normalized          0\n",
       "smart_250_raw                 0\n",
       "smart_251_normalized          0\n",
       "smart_251_raw                 0\n",
       "smart_252_normalized          0\n",
       "smart_252_raw                 0\n",
       "smart_254_normalized          0\n",
       "smart_254_raw                 0\n",
       "smart_255_normalized          0\n",
       "smart_255_raw                 0\n",
       "dtype: int64"
      ]
     },
     "execution_count": 13,
     "metadata": {},
     "output_type": "execute_result"
    }
   ],
   "source": [
    "total_df.count()"
   ]
  },
  {
   "cell_type": "code",
   "execution_count": 14,
   "metadata": {
    "collapsed": false
   },
   "outputs": [],
   "source": [
    "total_count_df = pd.DataFrame(total_df.count(),columns=['counts'])"
   ]
  },
  {
   "cell_type": "code",
   "execution_count": 15,
   "metadata": {
    "collapsed": false
   },
   "outputs": [
    {
     "data": {
      "text/html": [
       "<div>\n",
       "<table border=\"1\" class=\"dataframe\">\n",
       "  <thead>\n",
       "    <tr style=\"text-align: right;\">\n",
       "      <th></th>\n",
       "      <th>counts</th>\n",
       "    </tr>\n",
       "  </thead>\n",
       "  <tbody>\n",
       "    <tr>\n",
       "      <th>date</th>\n",
       "      <td>2000000</td>\n",
       "    </tr>\n",
       "    <tr>\n",
       "      <th>serial_number</th>\n",
       "      <td>2000000</td>\n",
       "    </tr>\n",
       "    <tr>\n",
       "      <th>model</th>\n",
       "      <td>2000000</td>\n",
       "    </tr>\n",
       "    <tr>\n",
       "      <th>capacity_bytes</th>\n",
       "      <td>2000000</td>\n",
       "    </tr>\n",
       "    <tr>\n",
       "      <th>failure</th>\n",
       "      <td>2000000</td>\n",
       "    </tr>\n",
       "  </tbody>\n",
       "</table>\n",
       "</div>"
      ],
      "text/plain": [
       "                 counts\n",
       "date            2000000\n",
       "serial_number   2000000\n",
       "model           2000000\n",
       "capacity_bytes  2000000\n",
       "failure         2000000"
      ]
     },
     "execution_count": 15,
     "metadata": {},
     "output_type": "execute_result"
    }
   ],
   "source": [
    "total_count_df.head()"
   ]
  },
  {
   "cell_type": "code",
   "execution_count": 16,
   "metadata": {
    "collapsed": false
   },
   "outputs": [
    {
     "data": {
      "text/html": [
       "<div>\n",
       "<table border=\"1\" class=\"dataframe\">\n",
       "  <thead>\n",
       "    <tr style=\"text-align: right;\">\n",
       "      <th></th>\n",
       "      <th>counts</th>\n",
       "    </tr>\n",
       "  </thead>\n",
       "  <tbody>\n",
       "    <tr>\n",
       "      <th>date</th>\n",
       "      <td>2000000</td>\n",
       "    </tr>\n",
       "    <tr>\n",
       "      <th>serial_number</th>\n",
       "      <td>2000000</td>\n",
       "    </tr>\n",
       "    <tr>\n",
       "      <th>model</th>\n",
       "      <td>2000000</td>\n",
       "    </tr>\n",
       "    <tr>\n",
       "      <th>capacity_bytes</th>\n",
       "      <td>2000000</td>\n",
       "    </tr>\n",
       "    <tr>\n",
       "      <th>failure</th>\n",
       "      <td>2000000</td>\n",
       "    </tr>\n",
       "    <tr>\n",
       "      <th>smart_1_raw</th>\n",
       "      <td>2000000</td>\n",
       "    </tr>\n",
       "    <tr>\n",
       "      <th>smart_5_raw</th>\n",
       "      <td>2000000</td>\n",
       "    </tr>\n",
       "    <tr>\n",
       "      <th>smart_9_raw</th>\n",
       "      <td>2000000</td>\n",
       "    </tr>\n",
       "    <tr>\n",
       "      <th>smart_194_raw</th>\n",
       "      <td>2000000</td>\n",
       "    </tr>\n",
       "    <tr>\n",
       "      <th>smart_197_raw</th>\n",
       "      <td>2000000</td>\n",
       "    </tr>\n",
       "  </tbody>\n",
       "</table>\n",
       "</div>"
      ],
      "text/plain": [
       "                 counts\n",
       "date            2000000\n",
       "serial_number   2000000\n",
       "model           2000000\n",
       "capacity_bytes  2000000\n",
       "failure         2000000\n",
       "smart_1_raw     2000000\n",
       "smart_5_raw     2000000\n",
       "smart_9_raw     2000000\n",
       "smart_194_raw   2000000\n",
       "smart_197_raw   2000000"
      ]
     },
     "execution_count": 16,
     "metadata": {},
     "output_type": "execute_result"
    }
   ],
   "source": [
    "total_count_df[total_count_df.counts > 0]"
   ]
  },
  {
   "cell_type": "markdown",
   "metadata": {},
   "source": [
    "** How to refine? **\n",
    "\n",
    "When we look at our dataset , we see that a **lot of columns have no data**.\n",
    "Let us take a look at the columns that has data and those that dont\n",
    "\n",
    "** From this data we can see that we need only 10 columns **\n",
    "* **model**\n",
    "* **date**\n",
    "* **serial_number**\n",
    "* **capacity_bytes**\n",
    "* **failure**\n",
    "* **smart_1_raw**\n",
    "* **smart_5_raw**\n",
    "* **smart_9_raw**\n",
    "* **smart_194_raw**\n",
    "* **smart_197_raw**\n"
   ]
  },
  {
   "cell_type": "markdown",
   "metadata": {},
   "source": [
    "<img style=\"float:center\" src=\"img/refine.jpg\" width=250/>"
   ]
  },
  {
   "cell_type": "code",
   "execution_count": 3,
   "metadata": {
    "collapsed": true
   },
   "outputs": [],
   "source": [
    "#this is the code snippet to to load required columns into another database\n",
    "reduced_data_df = pd.read_sql_query(sql='''select model,date,serial_number,capacity_bytes,failure,smart_1_raw,smart_5_raw,smart_9_raw,smart_194_raw,smart_197_raw from data where date between '2013-04-10' and '2013-08-20' ''',con=engine)"
   ]
  },
  {
   "cell_type": "code",
   "execution_count": 4,
   "metadata": {
    "collapsed": true
   },
   "outputs": [],
   "source": [
    "reduced_data_df.to_csv('data.csv')"
   ]
  },
  {
   "cell_type": "code",
   "execution_count": 18,
   "metadata": {
    "collapsed": false
   },
   "outputs": [],
   "source": [
    "reduced_data_df.to_sql(\"data_reduced\",con=engine,index=False,if_exists='append')"
   ]
  },
  {
   "cell_type": "markdown",
   "metadata": {},
   "source": [
    "**Using the above columns we have created a reduced data set and loaded it onto the database. This is the database we will be using from here onwards.**"
   ]
  },
  {
   "cell_type": "code",
   "execution_count": null,
   "metadata": {
    "collapsed": true
   },
   "outputs": [],
   "source": []
  }
 ],
 "metadata": {
  "kernelspec": {
   "display_name": "Python 2",
   "language": "python",
   "name": "python2"
  },
  "language_info": {
   "codemirror_mode": {
    "name": "ipython",
    "version": 2
   },
   "file_extension": ".py",
   "mimetype": "text/x-python",
   "name": "python",
   "nbconvert_exporter": "python",
   "pygments_lexer": "ipython2",
   "version": "2.7.11"
  }
 },
 "nbformat": 4,
 "nbformat_minor": 0
}
