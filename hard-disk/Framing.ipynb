{
 "cells": [
  {
   "cell_type": "markdown",
   "metadata": {},
   "source": [
    "<img style=\"float:center\" src=\"rsz_constructocat2.jpg\" />"
   ]
  },
  {
   "cell_type": "markdown",
   "metadata": {},
   "source": [
    "<h1 align=\"center\"> Hard disk failure data in a data centre </h1> "
   ]
  },
  {
   "cell_type": "markdown",
   "metadata": {},
   "source": [
    "\n",
    "<a href=\"https://www.backblaze.com/\"><img style=\"float:center\" width=200 src=\"backblaze-logo.gif\"  /></a>\n",
    "<br/>\n",
    "<p>Back blaze regularly publish studies and observations of the hard drives in their environment, including hard drive failure rates and the effect of temperature on hard drive performance.</p>"
   ]
  },
  {
   "cell_type": "markdown",
   "metadata": {},
   "source": [
    "### Overview of the Hard Drive Data\n",
    "Each day in the Backblaze data center, we take a snapshot of each operational hard drive. This snapshot includes basic drive information along with the S.M.A.R.T. statistics reported by that drive. The daily snapshot of one drive is one record or row of data. All of the drive snapshots for a given day are collected into a file consisting of a row for each active hard drive. The format of this file is a \"csv\" (Comma Separated Values) file. Each day this file is named in the format YYYY-MM-DD.csv, for example, 2013-04-10.csv.\n",
    "\n",
    "\n",
    "The first row of the each file contains the column names, the remaining rows are the actual data. The columns are as follows:\n",
    "<br/>\n",
    "#### Date – The date of the file in yyyy-mm-dd format.\n",
    "<br/>\n",
    "Serial Number – The manufacturer-assigned serial number of the drive.\n",
    "<br/>\n",
    "Model – The manufacturer-assigned model number of the drive.\n",
    "<br/>\n",
    "Capacity – The drive capacity in bytes.\n",
    "<br/>\n",
    "Failure – Contains a “0” if the drive is OK. Contains a “1” if this is the last day the drive was operational before failing.\n",
    "<br/>\n",
    "2013-2014 SMART Stats – 80 columns of data, that are the Raw and Normalized values for 40 different SMART stats as reported by the given drive. Each value is the number reported by the drive.\n",
    "<br/>\n",
    "2015 SMART Stats – 90 columns of data, that are the Raw and Normalized values for 45 different SMART stats as reported by the given drive. Each value is the number reported by the drive."
   ]
  },
  {
   "cell_type": "code",
   "execution_count": 8,
   "metadata": {
    "collapsed": true
   },
   "outputs": [],
   "source": [
    "import os"
   ]
  },
  {
   "cell_type": "code",
   "execution_count": 5,
   "metadata": {
    "collapsed": false
   },
   "outputs": [
    {
     "data": {
      "text/plain": [
       "'/home/nischal/code/intro-python-data-science/hard-disk'"
      ]
     },
     "execution_count": 5,
     "metadata": {},
     "output_type": "execute_result"
    }
   ],
   "source": [
    "os.getcwd()"
   ]
  },
  {
   "cell_type": "code",
   "execution_count": null,
   "metadata": {
    "collapsed": true
   },
   "outputs": [],
   "source": []
  }
 ],
 "metadata": {
  "kernelspec": {
   "display_name": "Python 2",
   "language": "python",
   "name": "python2"
  },
  "language_info": {
   "codemirror_mode": {
    "name": "ipython",
    "version": 2
   },
   "file_extension": ".py",
   "mimetype": "text/x-python",
   "name": "python",
   "nbconvert_exporter": "python",
   "pygments_lexer": "ipython2",
   "version": "2.7.6"
  }
 },
 "nbformat": 4,
 "nbformat_minor": 0
}
