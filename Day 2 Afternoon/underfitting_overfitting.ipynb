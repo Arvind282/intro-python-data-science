{
 "cells": [
  {
   "cell_type": "markdown",
   "metadata": {},
   "source": [
    "# Underfitted Vs Overfitted Model"
   ]
  },
  {
   "cell_type": "code",
   "execution_count": null,
   "metadata": {
    "collapsed": true
   },
   "outputs": [],
   "source": [
    "import pandas as pd\n",
    "import numpy as np\n",
    "import matplotlib.pyplot as plt\n",
    "from sklearn.preprocessing import PolynomialFeatures\n",
    "from sklearn.linear_model import LinearRegression"
   ]
  },
  {
   "cell_type": "code",
   "execution_count": null,
   "metadata": {
    "collapsed": true
   },
   "outputs": [],
   "source": [
    "%matplotlib inline"
   ]
  },
  {
   "cell_type": "code",
   "execution_count": null,
   "metadata": {
    "collapsed": false
   },
   "outputs": [],
   "source": [
    "data = pd.read_csv(\"under_over_fitting.csv\")"
   ]
  },
  {
   "cell_type": "code",
   "execution_count": null,
   "metadata": {
    "collapsed": true
   },
   "outputs": [],
   "source": [
    "good_poly_features = PolynomialFeatures(degree=3)\n",
    "bad_poly_features = PolynomialFeatures(degree=5)\n",
    "linear_reg_simple = LinearRegression()\n",
    "linear_reg_good_poly = LinearRegression()\n",
    "linear_reg_bad_poly = LinearRegression()"
   ]
  },
  {
   "cell_type": "code",
   "execution_count": null,
   "metadata": {
    "collapsed": false
   },
   "outputs": [],
   "source": [
    "features = np.array(data.feature).reshape(data.shape[0],1)\n",
    "target = np.array(data.target)"
   ]
  },
  {
   "cell_type": "code",
   "execution_count": null,
   "metadata": {
    "collapsed": false
   },
   "outputs": [],
   "source": [
    "good_poly_features.fit(features,target)\n",
    "bad_poly_features.fit(features, target)"
   ]
  },
  {
   "cell_type": "code",
   "execution_count": null,
   "metadata": {
    "collapsed": false
   },
   "outputs": [],
   "source": [
    "linear_reg_simple = linear_reg_simple.fit(features, target)\n",
    "linear_reg_good_poly = linear_reg_good_poly.fit(good_poly_features.transform(features), target)\n",
    "linear_reg_bad_poly = linear_reg_bad_poly.fit(bad_poly_features.transform(features), target)"
   ]
  },
  {
   "cell_type": "code",
   "execution_count": null,
   "metadata": {
    "collapsed": false
   },
   "outputs": [],
   "source": [
    "linear_reg_simple_prediction = linear_reg_simple.predict(features)\n",
    "linear_reg_good_poly_prediction = linear_reg_good_poly.predict(good_poly_features.transform(features))\n",
    "linear_reg_bad_poly_prediction = linear_reg_bad_poly.predict(bad_poly_features.transform(features))"
   ]
  },
  {
   "cell_type": "code",
   "execution_count": null,
   "metadata": {
    "collapsed": false
   },
   "outputs": [],
   "source": [
    "linear_reg_bad_poly_prediction, linear_reg_good_poly_prediction"
   ]
  },
  {
   "cell_type": "code",
   "execution_count": null,
   "metadata": {
    "collapsed": false
   },
   "outputs": [],
   "source": [
    "plt.scatter(features,target,label=\"actual\")\n",
    "plt.plot(features,linear_reg_simple_prediction,label=\"Underfitted model\")\n",
    "plt.plot(features,linear_reg_good_poly_prediction,label=\"Good model\")\n",
    "plt.plot(features,linear_reg_bad_poly_prediction,label=\"Overfitted model\")\n",
    "plt.legend(loc=\"best\")\n",
    "\n",
    "plt.show()"
   ]
  },
  {
   "cell_type": "code",
   "execution_count": null,
   "metadata": {
    "collapsed": false
   },
   "outputs": [],
   "source": [
    "plt.scatter(features,target,label=\"actual\")\n",
    "plt.plot(features,linear_reg_bad_poly_prediction,label=\"Good model\")\n",
    "plt.legend(loc=\"best\")\n",
    "\n",
    "plt.show()"
   ]
  }
 ],
 "metadata": {
  "kernelspec": {
   "display_name": "Python 2",
   "language": "python",
   "name": "python2"
  },
  "language_info": {
   "codemirror_mode": {
    "name": "ipython",
    "version": 2
   },
   "file_extension": ".py",
   "mimetype": "text/x-python",
   "name": "python",
   "nbconvert_exporter": "python",
   "pygments_lexer": "ipython2",
   "version": "2.7.11"
  }
 },
 "nbformat": 4,
 "nbformat_minor": 0
}
