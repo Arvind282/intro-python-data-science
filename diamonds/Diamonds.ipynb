{
 "cells": [
  {
   "cell_type": "markdown",
   "metadata": {
    "collapsed": true
   },
   "source": [
    "# Diamond Quality Analysis"
   ]
  },
  {
   "cell_type": "code",
   "execution_count": 1,
   "metadata": {
    "collapsed": true
   },
   "outputs": [],
   "source": [
    "import numpy as np\n",
    "import pandas as pd\n",
    "import matplotlib.pyplot as plt\n",
    "import seaborn as sns"
   ]
  },
  {
   "cell_type": "code",
   "execution_count": 2,
   "metadata": {
    "collapsed": true
   },
   "outputs": [],
   "source": [
    "%matplotlib inline\n",
    "plt.style.use('ggplot')\n",
    "plt.rcParams['figure.figsize'] = (13,8)"
   ]
  },
  {
   "cell_type": "code",
   "execution_count": 4,
   "metadata": {
    "collapsed": false
   },
   "outputs": [
    {
     "data": {
      "text/html": [
       "<div>\n",
       "<table border=\"1\" class=\"dataframe\">\n",
       "  <thead>\n",
       "    <tr style=\"text-align: right;\">\n",
       "      <th></th>\n",
       "      <th>carat</th>\n",
       "      <th>cut</th>\n",
       "      <th>color</th>\n",
       "      <th>clarity</th>\n",
       "      <th>depth</th>\n",
       "      <th>table</th>\n",
       "      <th>price</th>\n",
       "      <th>x</th>\n",
       "      <th>y</th>\n",
       "      <th>z</th>\n",
       "    </tr>\n",
       "  </thead>\n",
       "  <tbody>\n",
       "    <tr>\n",
       "      <th>0</th>\n",
       "      <td>0.23</td>\n",
       "      <td>Ideal</td>\n",
       "      <td>E</td>\n",
       "      <td>SI2</td>\n",
       "      <td>61.5</td>\n",
       "      <td>55</td>\n",
       "      <td>326</td>\n",
       "      <td>3.95</td>\n",
       "      <td>3.98</td>\n",
       "      <td>2.43</td>\n",
       "    </tr>\n",
       "    <tr>\n",
       "      <th>1</th>\n",
       "      <td>0.21</td>\n",
       "      <td>Premium</td>\n",
       "      <td>E</td>\n",
       "      <td>SI1</td>\n",
       "      <td>59.8</td>\n",
       "      <td>61</td>\n",
       "      <td>326</td>\n",
       "      <td>3.89</td>\n",
       "      <td>3.84</td>\n",
       "      <td>2.31</td>\n",
       "    </tr>\n",
       "    <tr>\n",
       "      <th>2</th>\n",
       "      <td>0.23</td>\n",
       "      <td>Good</td>\n",
       "      <td>E</td>\n",
       "      <td>VS1</td>\n",
       "      <td>56.9</td>\n",
       "      <td>65</td>\n",
       "      <td>327</td>\n",
       "      <td>4.05</td>\n",
       "      <td>4.07</td>\n",
       "      <td>2.31</td>\n",
       "    </tr>\n",
       "    <tr>\n",
       "      <th>3</th>\n",
       "      <td>0.29</td>\n",
       "      <td>Premium</td>\n",
       "      <td>I</td>\n",
       "      <td>VS2</td>\n",
       "      <td>62.4</td>\n",
       "      <td>58</td>\n",
       "      <td>334</td>\n",
       "      <td>4.20</td>\n",
       "      <td>4.23</td>\n",
       "      <td>2.63</td>\n",
       "    </tr>\n",
       "    <tr>\n",
       "      <th>4</th>\n",
       "      <td>0.31</td>\n",
       "      <td>Good</td>\n",
       "      <td>J</td>\n",
       "      <td>SI2</td>\n",
       "      <td>63.3</td>\n",
       "      <td>58</td>\n",
       "      <td>335</td>\n",
       "      <td>4.34</td>\n",
       "      <td>4.35</td>\n",
       "      <td>2.75</td>\n",
       "    </tr>\n",
       "  </tbody>\n",
       "</table>\n",
       "</div>"
      ],
      "text/plain": [
       "   carat      cut color clarity  depth  table  price     x     y     z\n",
       "0   0.23    Ideal     E     SI2   61.5     55    326  3.95  3.98  2.43\n",
       "1   0.21  Premium     E     SI1   59.8     61    326  3.89  3.84  2.31\n",
       "2   0.23     Good     E     VS1   56.9     65    327  4.05  4.07  2.31\n",
       "3   0.29  Premium     I     VS2   62.4     58    334  4.20  4.23  2.63\n",
       "4   0.31     Good     J     SI2   63.3     58    335  4.34  4.35  2.75"
      ]
     },
     "execution_count": 4,
     "metadata": {},
     "output_type": "execute_result"
    }
   ],
   "source": [
    "df = pd.read_csv(\"./diamonds.csv\")\n",
    "df.head()"
   ]
  },
  {
   "cell_type": "markdown",
   "metadata": {},
   "source": [
    "### Carat\n",
    "The carat weight measures the mass of a diamond. One carat is defined as 200 milligrams (about 0.007 ounce avoirdupois). The point unit—equal to one one-hundredth of a carat (0.01 carat, or 2 mg)—is commonly used for diamonds of less than one carat. All else being equal, the price per carat increases with carat weight, since larger diamonds are both rarer and more desirable for use as gemstones."
   ]
  },
  {
   "cell_type": "code",
   "execution_count": 6,
   "metadata": {
    "collapsed": false
   },
   "outputs": [
    {
     "data": {
      "text/plain": [
       "array([ 0.23,  0.21,  0.29,  0.31,  0.24,  0.26,  0.22,  0.3 ,  0.2 ,\n",
       "        0.32,  0.33,  0.25,  0.35,  0.42,  0.28,  0.38,  0.7 ,  0.86,\n",
       "        0.71,  0.78,  0.96,  0.73,  0.8 ,  0.75,  0.74,  0.81,  0.59,\n",
       "        0.9 ,  0.91,  0.61,  0.77,  0.63,  0.76,  0.64,  0.72,  0.79,\n",
       "        0.58,  1.17,  0.6 ,  0.83,  0.54,  0.98,  0.52,  1.01,  0.53,\n",
       "        0.84,  0.51,  1.05,  0.55,  0.87,  1.  ,  0.57,  0.82,  1.04,\n",
       "        0.93,  1.2 ,  0.99,  0.34,  0.43,  0.36,  0.95,  0.89,  1.02,\n",
       "        0.97,  0.56,  0.85,  0.92,  1.27,  0.66,  1.12,  0.68,  1.03,\n",
       "        0.62,  1.22,  1.08,  0.88,  0.5 ,  1.19,  0.39,  0.65,  1.24,\n",
       "        1.5 ,  0.27,  0.41,  1.13,  1.06,  0.69,  0.4 ,  1.14,  0.94,\n",
       "        1.29,  1.52,  1.16,  1.21,  1.23,  1.09,  0.67,  1.11,  1.1 ,\n",
       "        1.18,  1.15,  1.25,  1.07,  1.28,  1.51,  0.37,  1.31,  1.26,\n",
       "        1.39,  1.44,  1.35,  1.3 ,  1.32,  1.41,  1.36,  1.45,  1.34,\n",
       "        1.58,  1.54,  1.38,  1.33,  1.74,  1.64,  1.47,  1.4 ,  1.55,\n",
       "        1.95,  2.  ,  1.37,  1.83,  1.62,  1.57,  1.69,  2.06,  1.72,\n",
       "        1.66,  2.14,  1.49,  1.46,  2.15,  1.96,  2.22,  1.7 ,  1.53,\n",
       "        1.85,  2.01,  2.27,  1.68,  1.56,  1.81,  1.65,  1.82,  2.03,\n",
       "        1.73,  1.59,  1.42,  1.43,  2.08,  1.48,  1.6 ,  2.49,  1.71,\n",
       "        2.02,  2.07,  3.  ,  2.21,  2.1 ,  1.91,  2.25,  2.17,  2.32,\n",
       "        2.72,  1.61,  2.23,  2.11,  2.05,  1.63,  2.3 ,  2.31,  1.75,\n",
       "        2.04,  2.12,  1.77,  2.5 ,  1.8 ,  1.67,  1.84,  2.2 ,  3.01,\n",
       "        1.88,  2.33,  2.68,  2.34,  1.9 ,  2.16,  2.74,  1.78,  1.76,\n",
       "        2.28,  1.79,  1.94,  2.43,  1.86,  3.11,  1.87,  2.09,  1.89,\n",
       "        2.52,  2.19,  2.18,  2.77,  2.63,  3.05,  2.46,  3.02,  2.38,\n",
       "        2.24,  2.26,  2.36,  1.99,  2.29,  3.65,  2.45,  2.4 ,  2.54,\n",
       "        3.24,  2.13,  2.58,  3.22,  3.5 ,  2.48,  1.98,  2.44,  2.75,\n",
       "        1.93,  2.41,  2.61,  2.35,  2.51,  2.7 ,  2.55,  1.97,  2.53,\n",
       "        2.37,  2.47,  2.8 ,  4.01,  2.56,  3.04,  1.92,  2.39,  3.4 ,\n",
       "        4.  ,  3.67,  2.42,  2.66,  2.65,  2.59,  2.6 ,  2.57,  2.71,\n",
       "        4.13,  2.64,  5.01,  4.5 ,  2.67,  3.51,  0.44,  0.45,  0.47,\n",
       "        0.46,  0.48,  0.49])"
      ]
     },
     "execution_count": 6,
     "metadata": {},
     "output_type": "execute_result"
    }
   ],
   "source": [
    "df.carat.unique()"
   ]
  },
  {
   "cell_type": "markdown",
   "metadata": {},
   "source": [
    "### Cut\n",
    "Diamond cutting is the art and science of creating a gem-quality diamond out of mined rough. The cut of a diamond describes the manner in which a diamond has been shaped and polished from its beginning form as a rough stone to its final gem proportions. The cut of a diamond describes the quality of workmanship and the angles to which a diamond is cut. Often diamond cut is confused with \"shape\"."
   ]
  },
  {
   "cell_type": "code",
   "execution_count": 7,
   "metadata": {
    "collapsed": false
   },
   "outputs": [
    {
     "data": {
      "text/plain": [
       "array(['Ideal', 'Premium', 'Good', 'Very Good', 'Fair'], dtype=object)"
      ]
     },
     "execution_count": 7,
     "metadata": {},
     "output_type": "execute_result"
    }
   ],
   "source": [
    "df.cut.unique()"
   ]
  },
  {
   "cell_type": "markdown",
   "metadata": {},
   "source": [
    "### Colour\n",
    "The finest quality as per color grading is totally colorless, which is graded as \"D\" color diamond across the globe, meaning it is absolutely free from any color. The next grade has a very slight trace of color, which can be observed by any expert diamond valuer/grading laboratory. However when studded in jewellery these very light colored diamonds do not show any color or it is not possible to make out color shades. These are graded as E color or F color diamonds."
   ]
  },
  {
   "cell_type": "code",
   "execution_count": 5,
   "metadata": {
    "collapsed": false
   },
   "outputs": [
    {
     "data": {
      "text/plain": [
       "array(['E', 'I', 'J', 'H', 'F', 'G', 'D'], dtype=object)"
      ]
     },
     "execution_count": 5,
     "metadata": {},
     "output_type": "execute_result"
    }
   ],
   "source": [
    "df.color.unique()"
   ]
  },
  {
   "cell_type": "markdown",
   "metadata": {},
   "source": [
    "![](./diamond-colors.png)"
   ]
  },
  {
   "cell_type": "code",
   "execution_count": null,
   "metadata": {
    "collapsed": true
   },
   "outputs": [],
   "source": []
  }
 ],
 "metadata": {
  "kernelspec": {
   "display_name": "Python 2",
   "language": "python",
   "name": "python2"
  },
  "language_info": {
   "codemirror_mode": {
    "name": "ipython",
    "version": 2
   },
   "file_extension": ".py",
   "mimetype": "text/x-python",
   "name": "python",
   "nbconvert_exporter": "python",
   "pygments_lexer": "ipython2",
   "version": "2.7.10"
  }
 },
 "nbformat": 4,
 "nbformat_minor": 0
}
